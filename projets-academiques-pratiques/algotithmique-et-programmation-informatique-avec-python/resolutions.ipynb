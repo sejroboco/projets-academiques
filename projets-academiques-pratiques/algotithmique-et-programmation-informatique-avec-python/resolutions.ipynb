{
 "cells": [
  {
   "cell_type": "markdown",
   "id": "b66ca1b5-0323-468e-8da4-88a099351f31",
   "metadata": {},
   "source": [
    "$$\n",
    "\\begin{array}{|c|}\n",
    "\\hline\n",
    "Travaux&Pratiques&d'Algorithmique&et&programmation&avec&Python\\\\\n",
    "\\hline\n",
    "\\end{array}\n",
    "$$"
   ]
  },
  {
   "cell_type": "markdown",
   "id": "dd4b0142-8f18-4e37-861a-990c2ed5e8f6",
   "metadata": {
    "jp-MarkdownHeadingCollapsed": true,
    "tags": []
   },
   "source": [
    "### $\\bigoplus$ Exercice 1 : Diviseurs d'un nombre "
   ]
  },
  {
   "cell_type": "markdown",
   "id": "e88f1c0c-015c-48f0-a6cd-3a437f7e17d2",
   "metadata": {
    "jp-MarkdownHeadingCollapsed": true,
    "tags": []
   },
   "source": [
    "##### 1. Procédure calcule_diviseurs"
   ]
  },
  {
   "cell_type": "code",
   "execution_count": 3,
   "id": "30c8a873-73d0-4bd7-bb47-a20ffe7f446a",
   "metadata": {},
   "outputs": [
    {
     "data": {
      "text/plain": [
       "4"
      ]
     },
     "execution_count": 3,
     "metadata": {},
     "output_type": "execute_result"
    }
   ],
   "source": [
    "def calcule_diviseurs(n): # Définition de la procédure\n",
    "    if n < 2:\n",
    "        mess = print(\"Veuillez entrer un entier supérieur ou égal à 2.\")\n",
    "    else:\n",
    "        # Détermination du nombre de diviseurs\n",
    "        d = 0\n",
    "        for i in range(1,n//2+1):\n",
    "            if n%i == 0:\n",
    "                d += 1\n",
    "        d += 1\n",
    "        # Récupération des diviseurs dans le tableau diviseurs     \n",
    "        diviseurs = [0]*d\n",
    "        k = 0\n",
    "        for i in range(1,n//2):\n",
    "            if n%i == 0:\n",
    "                diviseurs[k] = i\n",
    "                k += 1\n",
    "        diviseurs[k] = n\n",
    "        mess = d\n",
    "    return mess\n",
    "\n",
    "calcule_diviseurs(6) # Appel de la procédure"
   ]
  },
  {
   "cell_type": "markdown",
   "id": "6eee7d22-a014-4e7e-998f-3f51ba240872",
   "metadata": {
    "jp-MarkdownHeadingCollapsed": true,
    "tags": []
   },
   "source": [
    "##### 2. Fonction addition_diviseurs_propre"
   ]
  },
  {
   "cell_type": "code",
   "execution_count": 2,
   "id": "f5978821-148e-45c1-9cee-fc622a42fa30",
   "metadata": {},
   "outputs": [
    {
     "data": {
      "text/plain": [
       "16"
      ]
     },
     "execution_count": 2,
     "metadata": {},
     "output_type": "execute_result"
    }
   ],
   "source": [
    "def addition_diviseurs_propre(n): # Définition de la fonction\n",
    "    if n < 2:\n",
    "        mess = print(\"Veuillez entrer un entier supérieur ou égal à 2.\")\n",
    "    else:\n",
    "        s = 0\n",
    "        for i in range(1,n//2 + 1):\n",
    "            if n%i == 0:\n",
    "                s += i\n",
    "        mess = s\n",
    "    return mess\n",
    "\n",
    "addition_diviseurs_propre(12) # Appel de la fonction"
   ]
  },
  {
   "cell_type": "markdown",
   "id": "b02aae25-9c51-4038-b5cb-3726fd5df28b",
   "metadata": {
    "jp-MarkdownHeadingCollapsed": true,
    "tags": []
   },
   "source": [
    "##### 3. Fonction addition_diviseurs"
   ]
  },
  {
   "cell_type": "code",
   "execution_count": 5,
   "id": "bcb7e1a4-3057-4b65-afb3-79d8a057ffd3",
   "metadata": {},
   "outputs": [
    {
     "data": {
      "text/plain": [
       "18"
      ]
     },
     "execution_count": 5,
     "metadata": {},
     "output_type": "execute_result"
    }
   ],
   "source": [
    "def addition_diviseurs(n): # Définition de la fonction\n",
    "    sigma = addition_diviseurs_propre(n) + n\n",
    "    return sigma\n",
    "\n",
    "addition_diviseurs(10) # Appel de la fonction"
   ]
  },
  {
   "cell_type": "markdown",
   "id": "957b3dd0-632a-4f4d-8f38-09a9ef0f50dc",
   "metadata": {
    "jp-MarkdownHeadingCollapsed": true,
    "tags": []
   },
   "source": [
    "##### 4. Fonction calcul_abondance"
   ]
  },
  {
   "cell_type": "code",
   "execution_count": 6,
   "id": "f06d746b-0c20-439d-8a0e-2445696ff869",
   "metadata": {},
   "outputs": [
    {
     "data": {
      "text/plain": [
       "-2"
      ]
     },
     "execution_count": 6,
     "metadata": {},
     "output_type": "execute_result"
    }
   ],
   "source": [
    "def calcul_abondance(n): # Définition de la fonction\n",
    "    abond = addition_diviseurs_propre(n) - n\n",
    "    return abond\n",
    "\n",
    "calcul_abondance(10) # Appel de la fonction"
   ]
  },
  {
   "cell_type": "markdown",
   "id": "53f8bdd9-3b90-4d84-a77b-b6a338b90904",
   "metadata": {
    "jp-MarkdownHeadingCollapsed": true,
    "tags": []
   },
   "source": [
    "##### 5. Fonction est_parfait"
   ]
  },
  {
   "cell_type": "code",
   "execution_count": 7,
   "id": "a96d5d27-9d6b-410c-9bf8-725e3d0dd3f5",
   "metadata": {},
   "outputs": [
    {
     "data": {
      "text/plain": [
       "1"
      ]
     },
     "execution_count": 7,
     "metadata": {},
     "output_type": "execute_result"
    }
   ],
   "source": [
    "def est_parfait(n): # Définition de la fonction\n",
    "    if calcul_abondance(n) == 0:\n",
    "        p = 1\n",
    "    else:\n",
    "        p = 0\n",
    "    return p\n",
    "\n",
    "est_parfait(6) # Appel de la fonction"
   ]
  },
  {
   "cell_type": "markdown",
   "id": "476ece92-9f62-4de6-bb0f-595a995ae600",
   "metadata": {
    "jp-MarkdownHeadingCollapsed": true,
    "tags": []
   },
   "source": [
    "##### 6. Fonction sont_amicaux"
   ]
  },
  {
   "cell_type": "code",
   "execution_count": 8,
   "id": "fa33184c-0b49-42de-b4a9-196374c5f08c",
   "metadata": {},
   "outputs": [
    {
     "data": {
      "text/plain": [
       "0"
      ]
     },
     "execution_count": 8,
     "metadata": {},
     "output_type": "execute_result"
    }
   ],
   "source": [
    "def sont_amicaux(n,p): # Définition de la fonction\n",
    "    if addition_diviseurs_propre(n) == p and addition_diviseurs_propre(p) == n:\n",
    "        q = 1\n",
    "    else:\n",
    "        q = 0\n",
    "    return q\n",
    "\n",
    "sont_amicaux(12,18) # Appel de la fonction"
   ]
  },
  {
   "cell_type": "markdown",
   "id": "8052b65d-1d98-4266-8c9c-084d4142dbe2",
   "metadata": {
    "jp-MarkdownHeadingCollapsed": true,
    "tags": []
   },
   "source": [
    "##### 7. Fonction est_sublime"
   ]
  },
  {
   "cell_type": "code",
   "execution_count": 10,
   "id": "5b8b7a89-6b43-40d4-bf3b-4093dbde67f4",
   "metadata": {},
   "outputs": [
    {
     "data": {
      "text/plain": [
       "1"
      ]
     },
     "execution_count": 10,
     "metadata": {},
     "output_type": "execute_result"
    }
   ],
   "source": [
    "def est_sublime(n): # Définition de la fonction\n",
    "    if est_parfait(calcule_diviseurs(n)) == est_parfait(addition_diviseurs(n)):\n",
    "        p = 1\n",
    "    else:\n",
    "        p = 0\n",
    "    return p\n",
    "est_sublime(12) # Appel de la fonction"
   ]
  },
  {
   "cell_type": "markdown",
   "id": "dad2d050-836f-41d3-b11f-1a07dfebc514",
   "metadata": {
    "jp-MarkdownHeadingCollapsed": true,
    "tags": []
   },
   "source": [
    "##### 8. Fonctions est_abondant et est_deficient"
   ]
  },
  {
   "cell_type": "markdown",
   "id": "b778b55a-b106-4f63-9c78-9cbe7249aa05",
   "metadata": {
    "jp-MarkdownHeadingCollapsed": true,
    "tags": []
   },
   "source": [
    "###### 8.1. Fonction est_abondant"
   ]
  },
  {
   "cell_type": "code",
   "execution_count": 11,
   "id": "d09b9448-ea87-4ce1-80c6-e0b99451bfdc",
   "metadata": {},
   "outputs": [
    {
     "data": {
      "text/plain": [
       "0"
      ]
     },
     "execution_count": 11,
     "metadata": {},
     "output_type": "execute_result"
    }
   ],
   "source": [
    "def est_abondant(n): # Définition de la fonction\n",
    "    if calcul_abondance(n) > 0:\n",
    "        p = 1\n",
    "    else:\n",
    "        p = 0\n",
    "    return p\n",
    "\n",
    "est_abondant(10) # Appel de la fonction"
   ]
  },
  {
   "cell_type": "markdown",
   "id": "a770a9f5-e314-43cd-8ef1-c3c083cad394",
   "metadata": {
    "jp-MarkdownHeadingCollapsed": true,
    "tags": []
   },
   "source": [
    "###### 8.2. Fonction est_deficient"
   ]
  },
  {
   "cell_type": "code",
   "execution_count": 12,
   "id": "25a18f10-8b9b-4b48-9978-443103d6b047",
   "metadata": {},
   "outputs": [
    {
     "data": {
      "text/plain": [
       "1"
      ]
     },
     "execution_count": 12,
     "metadata": {},
     "output_type": "execute_result"
    }
   ],
   "source": [
    "def est_deficient(n): # Définition de la fonction\n",
    "    if calcul_abondance(n) < 0:\n",
    "        p = 1\n",
    "    else:\n",
    "        p = 0\n",
    "    return p\n",
    "\n",
    "est_deficient(10) # Appel de la fonction"
   ]
  },
  {
   "cell_type": "markdown",
   "id": "7d68c39e-8bb4-47ab-9d9c-eb1059f09a49",
   "metadata": {
    "jp-MarkdownHeadingCollapsed": true,
    "tags": []
   },
   "source": [
    "##### 9. Fonction affiche_nombres"
   ]
  },
  {
   "cell_type": "code",
   "execution_count": null,
   "id": "3bbab98d-2f59-4a69-9c07-35de02b313de",
   "metadata": {},
   "outputs": [
    {
     "name": "stdout",
     "output_type": "stream",
     "text": [
      "2\n",
      "3\n",
      "4\n",
      "5\n",
      "7\n",
      "8\n",
      "9\n",
      "10\n",
      "11\n",
      "13\n",
      "14\n",
      "15\n"
     ]
    }
   ],
   "source": [
    "def affiche_nombres(maxi, mode): # Définition de la fonction\n",
    "    if maxi < 2: # Assurance que le max est supérieur ou égal à 2\n",
    "        mess = print(\"Veuillez entrer un entier max supérieur ou égal à 2.\")\n",
    "    else:\n",
    "        if (mode != -1) and (mode != 0) and (mode != 1): # Assurance que le mode est -1, 0 ou 1\n",
    "            mess = print(\"Le mode d'affichage doit être -1, 0 ou 1. Veuillez réessayer.\")\n",
    "        else:\n",
    "            if mode == -1:\n",
    "                for i in range(2, maxi + 1):\n",
    "                    if est_deficient(i) == 1:\n",
    "                        mess = print(i)\n",
    "            else:\n",
    "                if mode == 0:\n",
    "                    for i in range(2, maxi + 1):\n",
    "                        if est_parfait(i) == 1:\n",
    "                            mess = print(i)\n",
    "                else:\n",
    "                    for i in range(2, maxi + 1):\n",
    "                        if est_abondant(i) == 1:\n",
    "                            mess = print(i)\n",
    "    return mess\n",
    "\n",
    "affiche_nombres(12, -1) # Appel de la fonction"
   ]
  },
  {
   "cell_type": "markdown",
   "id": "982b065c-9550-4804-83d5-1cb2dc152170",
   "metadata": {
    "jp-MarkdownHeadingCollapsed": true,
    "tags": []
   },
   "source": [
    "### $\\bigoplus$ Exercice 2 : Anagrammes"
   ]
  },
  {
   "cell_type": "code",
   "execution_count": 22,
   "id": "627c90fd-88fa-481e-a362-efdc407a54d3",
   "metadata": {},
   "outputs": [
    {
     "name": "stdout",
     "output_type": "stream",
     "text": [
      "Saisir le mot 1 :gARe\n",
      "Saisir le mot 2 :raGe\n",
      "Les mots gARe et raGe sont des anagrammes.\n"
     ]
    }
   ],
   "source": [
    "####################### Transformation de tous les caractères en majuscule ###################           \n",
    "def majuscule(mot):\n",
    "    MOT = [0]*len(mot)\n",
    "    for i in range(0, len(mot)):\n",
    "        MOT[i] = mot[i]\n",
    "\n",
    "    for i in range(0, len(MOT)):\n",
    "        if ord(MOT[i]) >= 97 and ord(MOT[i]) <= 122: # Transformation des minuscules simples en majuscules\n",
    "            MOT[i] = chr(ord(MOT[i]) - 32)\n",
    "        else:\n",
    "            # Transformation des \"A\" accentués\n",
    "            if (ord(MOT[i]) >= 192 and ord(MOT[i]) <= 197) or (ord(MOT[i]) >= 224 and ord(MOT[i]) <= 229):\n",
    "                MOT[i] = chr(65)\n",
    "            # Transformation des \"E\" accentués   \n",
    "            if (ord(MOT[i]) >= 200 and ord(MOT[i]) <= 203) or (ord(MOT[i]) >= 232 and ord(MOT[i]) <= 235):\n",
    "                MOT[i] = chr(69)\n",
    "            # Transformation des \"I\" accentués\n",
    "            if (ord(MOT[i]) >= 204 and ord(MOT[i]) <= 207) or (ord(MOT[i]) >= 236 and ord(MOT[i]) <= 239):\n",
    "                MOT[i] = chr(73)\n",
    "            # Transformation des \"0\" accentués\n",
    "            if (ord(MOT[i]) >= 210 and ord(MOT[i]) <= 214) or (ord(MOT[i]) >= 242 and ord(MOT[i]) <= 246):\n",
    "                MOT[i] = chr(79)\n",
    "            # Transformation des \"U\" accentués\n",
    "            if (ord(MOT[i]) >= 217 and ord(MOT[i]) <= 220) or (ord(MOT[i]) >= 249 and ord(MOT[i]) <= 252):\n",
    "                MOT[i] = chr(85)\n",
    "            # Transformation des \"Y\" accentués\n",
    "            if ord(MOT[i]) == 221 or ord(MOT[i]) == 253 or ord(MOT[i]) == 255:\n",
    "                MOT[i] = chr(89)\n",
    "            # Transformation de la \"C\" cédille\n",
    "            if ord(MOT[i]) == 199 or ord(MOT[i]) == 231 :\n",
    "                MOT[i] = chr(67)\n",
    "    return MOT\n",
    "#################################### Saisie des mots ######################################################################\n",
    "mot_init = [0]*2\n",
    "mot = [0]*2\n",
    "for i in range(0,len(mot)):\n",
    "    mot_init[i] = str(input(f\"Saisir le mot {i+1} :\"))\n",
    "    mot[i] = majuscule(mot_init[i])\n",
    "########################################## Cas où les mots n'ont pas la même longueur ##########################################\n",
    "if len(mot[0]) != len(mot[1]):\n",
    "    print(f\"Les mots {mot_init[0]} et {mot_init[1]} ne sont pas des anagrammes.\")\n",
    "else:\n",
    "############################## Tri par ordre croissant pour les deux mots ########################################################\n",
    "    for i in range(0, 2):\n",
    "        for j in range(0, len(mot[i])): # Tri par extraction\n",
    "            for k in range(j + 1, len(mot[i])):\n",
    "                if mot[i][j] < mot[i][k]:\n",
    "                    mot[i][j], mot[i][k] = mot[i][k], mot[i][j]\n",
    "######################### Comparaison des deux séquences de lettres #################################\n",
    "    if mot[0] == mot[1]:\n",
    "        print(f\"Les mots {mot_init[0]} et {mot_init[1]} sont des anagrammes.\")\n",
    "    else:\n",
    "        print(f\"Les mots {mot_init[0]} et {mot_init[1]} ne sont pas des anagrammes.\") "
   ]
  },
  {
   "cell_type": "markdown",
   "id": "7473111b-1067-47c0-99ed-2e54b8de6036",
   "metadata": {
    "jp-MarkdownHeadingCollapsed": true,
    "tags": []
   },
   "source": [
    "### $\\bigoplus$ Exercice 3 : Convergence d'une suite de Newton"
   ]
  },
  {
   "cell_type": "markdown",
   "id": "7a1bf630-3e19-4b91-9ea2-913b7d0d4246",
   "metadata": {},
   "source": [
    "$x_i=\\left(\\frac{1}{3}2x_{i-1}+\\frac{A}{x_{i-1}^2}\\right)$ avec $x_0 = 1$. Test d'arrêt : $|x_i - x_{i-1}| < \\epsilon$"
   ]
  },
  {
   "cell_type": "code",
   "execution_count": 23,
   "id": "fe3e4235-e4b5-439f-bbb7-64a44fdd20ab",
   "metadata": {},
   "outputs": [
    {
     "name": "stdout",
     "output_type": "stream",
     "text": [
      "Saisir une valeur A :-27\n",
      "Quelle est la précision souhaitée ? 0.05\n",
      "-8.333333333333332\n",
      "-5.685155555555554\n",
      "-4.068560488977106\n",
      "-3.256075689936078\n",
      "-3.019611247370567\n"
     ]
    }
   ],
   "source": [
    "A = float(input(\"Saisir une valeur A :\")) # Saisie de la valeur A\n",
    "eps = float(input(\"Quelle est la précision souhaitée ? \")) # Saisie de la précision de calcul\n",
    "while eps <= 0 or eps >=1:\n",
    "    eps = float(input(\"Veuillez entrer une valeur non nulle pour epsilon :\"))\n",
    "\n",
    "x0 = 1 # Premier terme de la suite \n",
    "x1 = 1/3*(2*x0 + A/x0**2) # Deuxième terme de la suite \n",
    "while abs(x1 - x0) >= eps: # Test d'arrêt\n",
    "    print(x1)\n",
    "    x0 = x1\n",
    "    x1 = 1/3*(2*x0 + A/x0**2)"
   ]
  },
  {
   "cell_type": "markdown",
   "id": "0444eacb-6d1a-4b0f-b379-bb3bb8ca4f73",
   "metadata": {
    "jp-MarkdownHeadingCollapsed": true,
    "tags": []
   },
   "source": [
    "### $\\bigoplus$ Exercice 4 : Calcul d'une intégrale"
   ]
  },
  {
   "cell_type": "code",
   "execution_count": 26,
   "id": "95e9b3bb-d98f-4b62-b514-172ac5f233b1",
   "metadata": {},
   "outputs": [
    {
     "name": "stdout",
     "output_type": "stream",
     "text": [
      "Entrer la borne a :4\n",
      "Entrer la borne b :5\n",
      "Donner l'ordre n :10\n",
      "La somme de Darboux à l'ordre 10 pour f vaut : 95.32249999999999\n",
      "Donner la valeur de epsilon :0.01\n",
      "La valeur de n est : 3051\n"
     ]
    }
   ],
   "source": [
    "a = float(input(\"Entrer la borne a :\")) # Saisie de a et b\n",
    "b = float(input(\"Entrer la borne b :\"))\n",
    "while b < a:\n",
    "    b = float(input(\"Entrer un nombre valide pour la borne b :\"))\n",
    "n = int(input(\"Donner l'ordre n :\")) # Saisie de n\n",
    "while n <= 0:\n",
    "    n = int(input(\"Veuillez entrer un entier strictement positif :\")) \n",
    "k = 1 # Calcul de la somme\n",
    "s = 0\n",
    "q = (b - a)/n\n",
    "while k <= n:\n",
    "    s += (a + k*q)**3\n",
    "    k += 1\n",
    "som = q*s\n",
    "print(\"La somme de Darboux à l'ordre\", n, \"pour f vaut :\", som) \n",
    "epsilon = float(input(\"Donner la valeur de epsilon :\")) # Saisie epsilon  \n",
    "while epsilon <= 0 or epsilon >= 1:\n",
    "    epsilon = float(input(\"Veuillez entrer une valeur strictement positive et inférieur à 1 pour epsilon :\"))\n",
    "If = (b**4 - a**4)/4 # Recherche de n tel que abs(Sn(f) - If) < epsilon\n",
    "j = 1\n",
    "som = (b-a)*b**3\n",
    "while abs(som - If) >= epsilon:\n",
    "    j += 1\n",
    "    k = 1\n",
    "    s = 0\n",
    "    q = (b - a)/j\n",
    "    while k <= j:\n",
    "        s += (a + k*q)**3\n",
    "        k += 1\n",
    "    som = q*s\n",
    "print(\"La valeur de n est :\", j)"
   ]
  },
  {
   "cell_type": "markdown",
   "id": "89622073-4674-4897-8978-1a4e2943b2aa",
   "metadata": {
    "jp-MarkdownHeadingCollapsed": true,
    "tags": []
   },
   "source": [
    "### $\\bigoplus$ Exercice 5 : Rotation dans un tableau"
   ]
  },
  {
   "cell_type": "code",
   "execution_count": 28,
   "id": "40966fd9-b9bf-4b0a-85d3-947e4b540ffc",
   "metadata": {},
   "outputs": [
    {
     "name": "stdout",
     "output_type": "stream",
     "text": [
      "Entrer le nombre de caractères du tableau : 6\n",
      "Entrer le caractère 1 : b\n",
      "Entrer le caractère 2 : a\n",
      "Entrer le caractère 3 : l\n",
      "Entrer le caractère 4 : l\n",
      "Entrer le caractère 5 : o\n",
      "Entrer le caractère 6 : n\n",
      "Entrer un entier k : 3\n",
      "['l', 'o', 'n', 'b', 'a', 'l']\n"
     ]
    }
   ],
   "source": [
    "# Saisie du nombre de caractères\n",
    "n = int(input(\"Entrer le nombre de caractères du tableau : \"))\n",
    "while n <=0 or n > 100:\n",
    "    n = int(input(\"Veuillez réessayer. Le nombre de caractères doit être au plus 100.\"))\n",
    "\n",
    "# Saisie de caractères\n",
    "Tableau = [0]*n\n",
    "for i in range(0, n):\n",
    "    Tableau[i] = input(f\"Entrer le caractère {i + 1} : \")\n",
    "    \n",
    "# Saisir d'un nombre entier k\n",
    "k = int(input(\"Entrer un entier k : \"))\n",
    "while k <= 0 or k >= n:\n",
    "    k = int(input(f\"L'entier k doit être strictement compris entre 0 et {n}. Réessayer : \"))\n",
    "\n",
    "# Rotation à gauche de k caractères\n",
    "t = 1\n",
    "while t <= k:\n",
    "    der = Tableau[0]\n",
    "    for i in range(0, n-1):\n",
    "        Tableau[i] = Tableau[i+1]\n",
    "    Tableau[n-1] = der\n",
    "    t += 1\n",
    "print(Tableau)"
   ]
  },
  {
   "cell_type": "markdown",
   "id": "ba70a37c-93d6-40e3-aab3-9644f1e5ce28",
   "metadata": {
    "jp-MarkdownHeadingCollapsed": true,
    "tags": []
   },
   "source": [
    "### $\\bigoplus$ Exercice 6 : Divine proportion ! "
   ]
  },
  {
   "cell_type": "code",
   "execution_count": 30,
   "id": "87f7b4d4-1781-4087-b2f1-7eda6f89d0fc",
   "metadata": {},
   "outputs": [
    {
     "name": "stdout",
     "output_type": "stream",
     "text": [
      "Choisir 1 pour évaluer la suite V pour n donné.\n",
      " Choisir 2 pour déterminer n avec un précision sur l'arrêt de la suite.2\n",
      "Entrer la précision epsilon : 0.05\n",
      "6\n"
     ]
    }
   ],
   "source": [
    "# Choix de l'utilisateur\n",
    "c = int(input(\"Choisir 1 pour évaluer la suite V pour n donné.\\n Choisir 2 pour déterminer n avec un précision sur l'arrêt de la suite.\"))\n",
    "while c != 1 and c != 2:\n",
    "    c = int(input(\"Choix invalide ! Veuillez entrer 1 ou 2.\"))\n",
    "\n",
    "\n",
    "if c == 1:\n",
    "    # Saisie d'un rang n \n",
    "    n = int(input(\"Entrer le rang du terme de la suite :\"))\n",
    "    while n < 0:\n",
    "        n = int(input(\"Veuillez entrer un entier valide :\"))\n",
    "    # Calcul de Vn pour n donné\n",
    "    u1 = 1\n",
    "    u2 = 2\n",
    "    i = 2\n",
    "    while i <= n:\n",
    "        Vn = u2/u1\n",
    "        u1, u2 = u2, u1 + u2\n",
    "        i += 1\n",
    "    print(Vn)\n",
    "else:\n",
    "    # Saisie de la précision\n",
    "    e = float(input(\"Entrer la précision epsilon : \"))\n",
    "    while e <= 0 or e >= 1:\n",
    "         e = float(input(\"Veuillez entrer une valeur strictement positive et inférieur à 1 pour epsilon\"))\n",
    "    # Détermination de n \n",
    "    u1 = 1\n",
    "    u2 = 2\n",
    "    v2 = u2/u1\n",
    "    u = u1 + u2\n",
    "    v = u/u2\n",
    "    i = 3\n",
    "    while abs(v - v2) >= e:\n",
    "        u1 = u2\n",
    "        u2 = u\n",
    "        v2 = v\n",
    "        u = u1 + u2\n",
    "        v = u/u2\n",
    "        i += 1\n",
    "    print(i)"
   ]
  },
  {
   "cell_type": "markdown",
   "id": "460b4e87-11c4-4fce-8439-4063c714b4fd",
   "metadata": {
    "jp-MarkdownHeadingCollapsed": true,
    "tags": []
   },
   "source": [
    "### $\\bigoplus$ Exercice 7 : Manipulation de polynômes"
   ]
  },
  {
   "cell_type": "code",
   "execution_count": 31,
   "id": "60aea640-3aae-4aee-afb8-20552d050562",
   "metadata": {},
   "outputs": [
    {
     "name": "stdout",
     "output_type": "stream",
     "text": [
      "Quel est l'ordre du polynôme ? 5\n",
      "Entrer le coefficient d'ordre 0 : 0.2\n",
      "Entrer le coefficient d'ordre 1 : 4\n",
      "Entrer le coefficient d'ordre 2 : -9\n",
      "Entrer le coefficient d'ordre 3 : 8\n",
      "Entrer le coefficient d'ordre 4 : 2\n",
      "Entrer le coefficient d'ordre 5 : 3\n",
      "Entrer 1 pour évaluer le polynôme en x0.\n",
      " Entrer 2 pour construire sa table de b à c : 2\n",
      "Entrer l'entier b : 1\n",
      "Entrer l'entier c : 10\n",
      "La table des valeurs de P pour x variant de 1 à 10 est [8.2, 164.2, 1038.2, 3968.2, 11420.2, 27348.2, 57554.2, 110048.2, 195408.2, 327140.2] .\n"
     ]
    }
   ],
   "source": [
    "# Saisie de l'ordre du polynôme\n",
    "n = int(input(\"Quel est l'ordre du polynôme ? \"))\n",
    "while n < 1:\n",
    "    n = int(input(\"Réessayer, l'odre du polynôme doit être un entier naturel non nul.\"))\n",
    "\n",
    "# Saisie des coefficients du polynôme\n",
    "COEFF = [0]*(n+1)\n",
    "for i in range(0, n+1):\n",
    "    COEFF[i] = float(input(f\"Entrer le coefficient d'ordre {i} : \"))\n",
    "\n",
    "# Choix de l'utilisateur\n",
    "q = int(input(\"Entrer 1 pour évaluer le polynôme en x0.\\n Entrer 2 pour construire sa table de b à c : \"))\n",
    "while (q != 1 and q != 2):\n",
    "    q = int(input(\"Veuillez entrer un choix valide\"))\n",
    "\n",
    "# Evaluation du polynôme en x0\n",
    "if q == 1:\n",
    "    x0 = float(input(\"Entrer la valeur x0 : \"))\n",
    "    Px0 = COEFF[len(COEFF)-1]\n",
    "    j = 1\n",
    "    while (len(COEFF) - j) != 0:\n",
    "        Px0 = Px0*x0 + COEFF[len(COEFF) - 1 - j]\n",
    "        j = j + 1\n",
    "    print(f\"La valeur du polynôme P en {x0} est {Px0} .\")\n",
    "else:\n",
    "    # Construction de la table du polynôme pour x variant de b à c\n",
    "    b = int(input(\"Entrer l'entier b : \"))\n",
    "    while b < 0:\n",
    "        b = int(input(\"Veuillez entrer un entier valide : \"))\n",
    "    c = int(input(\"Entrer l'entier c : \"))\n",
    "    while c <= b:\n",
    "        c = int(input(f\"Veuillez entrer un entier supérieur à {b} : \"))\n",
    "    Tab_P = [0]*(c - b + 1)\n",
    "    for i in range(0, c - b + 1):\n",
    "        Px0 = COEFF[len(COEFF)-1]\n",
    "        j = 1\n",
    "        while (len(COEFF) - j) != 0:\n",
    "            Px0 = Px0*(i + b) + COEFF[len(COEFF) - 1 - j]\n",
    "            j = j + 1\n",
    "        Tab_P[i] = Px0\n",
    "    print(f\"La table des valeurs de P pour x variant de {b} à {c} est {Tab_P} .\")"
   ]
  },
  {
   "cell_type": "markdown",
   "id": "7f5d8763-8fcb-4689-a24b-dbb20fb4d75c",
   "metadata": {
    "jp-MarkdownHeadingCollapsed": true,
    "tags": []
   },
   "source": [
    "### $\\bigoplus$ Exercice 8 : Séquence"
   ]
  },
  {
   "cell_type": "code",
   "execution_count": 33,
   "id": "7330e066-9732-4b0c-ba17-6846e1825cfc",
   "metadata": {
    "tags": []
   },
   "outputs": [
    {
     "name": "stdout",
     "output_type": "stream",
     "text": [
      "Entrer l'entier 1 0\n",
      "Veuillez entrer un entier non nul : 12\n",
      "Entrer l'entier 2 ou entrer 0 pour arrêter : 5\n",
      "Entrer l'entier 3 ou entrer 0 pour arrêter : 8\n",
      "Entrer l'entier 4 ou entrer 0 pour arrêter : 7\n",
      "Entrer l'entier 5 ou entrer 0 pour arrêter : 0\n",
      " Nombre d'éléments saisis : 4\n",
      " Moyenne : 8.0\n",
      " Maximum : 12\n",
      " Minimum : 5\n",
      " Pourcentage d'éléments positifs : 100.0%\n",
      " Pourcentage d'éléments négatifs : 0.0%\n",
      " Rang i du plus grand écart entre deux éléments successifs : 2\n"
     ]
    }
   ],
   "source": [
    "n = 0 # compteur des éléments saisis\n",
    "p = 0 # compteur entiers positifs\n",
    "m = 0 # compteur entiers négatifs\n",
    "somme = 0 # Initialisation des éléments saisis\n",
    "\n",
    "e = int(input(f\"Entrer l'entier {n + 1} \")) # Saisie du premier élément\n",
    "while e == 0:\n",
    "    e = int(input(f\"Veuillez entrer un entier non nul : \"))\n",
    "n += 1 \n",
    "somme += e\n",
    "minimum = e\n",
    "maximum = e\n",
    "if e > 0:\n",
    "    p += 1\n",
    "if e < 0:\n",
    "    m += 1\n",
    "pre = e \n",
    "\n",
    "e = int(input(f\"Entrer l'entier {n + 1} ou entrer 0 pour arrêter : \")) # Saisie du deuxième élément\n",
    "while e == 0:\n",
    "    e = int(input(f\"Veuillez entrer un entier non nul : \"))\n",
    "n += 1\n",
    "somme += e\n",
    "if e < minimum:\n",
    "    minimum = e\n",
    "else:\n",
    "    if e > maximum:\n",
    "        maximum = e\n",
    "if e > 0:\n",
    "    p += 1\n",
    "if e < 0:\n",
    "    m += 1\n",
    "diff = abs(e - pre)\n",
    "diff_max = diff\n",
    "pre = e \n",
    "\n",
    "while e != 0: # Saisie des éléments suivants\n",
    "    e = int(input(f\"Entrer l'entier {n + 1} ou entrer 0 pour arrêter : \"))\n",
    "    somme += e\n",
    "    if e < minimum and e != 0:\n",
    "        minimum = e\n",
    "    else:\n",
    "        if e > maximum:\n",
    "            maximum = e\n",
    "    if e > 0:\n",
    "        p += 1\n",
    "    if e < 0:\n",
    "        m += 1\n",
    "    diff = abs(e - pre)\n",
    "    pre = e \n",
    "    if diff > diff_max:\n",
    "        rang = n\n",
    "        diff_max = diff     \n",
    "    n += 1\n",
    "    \n",
    "n_final = n - 1 # Nombre d'entiers non nuls saisis  \n",
    "pourc_p = (p/n_final)*100\n",
    "pourc_m = (m/n_final)*100\n",
    "moyenne = somme/n_final\n",
    "print(f\" Nombre d'éléments saisis : {n_final}\\n Moyenne : {moyenne}\\n Maximum : {maximum}\\n Minimum : {minimum}\\n Pourcentage d'éléments positifs : {pourc_p}%\\n Pourcentage d'éléments négatifs : {pourc_m}%\\n Rang i du plus grand écart entre deux éléments successifs : {rang}\")"
   ]
  },
  {
   "cell_type": "markdown",
   "id": "425a0039-2912-417d-ab4e-eaf55c05f67f",
   "metadata": {
    "jp-MarkdownHeadingCollapsed": true,
    "tags": []
   },
   "source": [
    "### $\\bigoplus$ Exercice 9 : Tri par permutation simple ou \"tri bulle\""
   ]
  },
  {
   "cell_type": "code",
   "execution_count": 34,
   "id": "1557f229-c947-435f-b70e-43452dae9d75",
   "metadata": {
    "tags": []
   },
   "outputs": [
    {
     "name": "stdout",
     "output_type": "stream",
     "text": [
      "Saisir la taille du tableau : 5\n",
      "Entrer l'élément 1 : 1\n",
      "Entrer l'élément 2 : -2\n",
      "Entrer l'élément 3 : 5\n",
      "Entrer l'élément 4 : 8\n",
      "Entrer l'élément 5 : 3\n",
      "[-2, 1, 5, 3, 8]\n",
      "[-2, 1, 3, 5, 8]\n",
      "[-2, 1, 3, 5, 8]\n"
     ]
    }
   ],
   "source": [
    "n = int(input(\"Saisir la taille du tableau : \")) # Saisie du nombre d'éléments du tableau\n",
    "while n < 2:\n",
    "    n = int(input(\"Veuillez un entier supérieur à 1 pour la taille du tableau : \"))\n",
    "TAB = [0]*n # Initialisation du tableau\n",
    "for i in range(0, n): # Saisie de chaque élément du tableau\n",
    "    TAB[i] = int(input(f\"Entrer l'élément {i + 1} : \"))\n",
    "    \n",
    "perm = True\n",
    "while perm:\n",
    "    perm = False\n",
    "    for i in range(0, n - 1):\n",
    "        if TAB[i] > TAB[i + 1]:\n",
    "            TAB[i], TAB[i + 1] = TAB[i + 1], TAB[i]\n",
    "            perm = True\n",
    "    print(TAB)"
   ]
  },
  {
   "cell_type": "markdown",
   "id": "7b547b1e-e977-4e30-865b-c9149abb750f",
   "metadata": {
    "jp-MarkdownHeadingCollapsed": true,
    "tags": []
   },
   "source": [
    "### $\\bigoplus$ Exercice 10 : Tri par extraction simple"
   ]
  },
  {
   "cell_type": "code",
   "execution_count": 35,
   "id": "7377beb4-27f0-4289-898d-a05ca6445114",
   "metadata": {},
   "outputs": [
    {
     "name": "stdout",
     "output_type": "stream",
     "text": [
      "Saisir la taille du tableau : 5\n",
      "Entrer l'élément 1 : 1\n",
      "Entrer l'élément 2 : -9\n",
      "Entrer l'élément 3 : 7\n",
      "Entrer l'élément 4 : 3\n",
      "Entrer l'élément 5 : 2\n",
      "[7, -9, 1, 3, 2]\n",
      "[7, 3, 1, -9, 2]\n",
      "[7, 3, 2, -9, 1]\n",
      "[7, 3, 2, 1, -9]\n"
     ]
    }
   ],
   "source": [
    "n = int(input(\"Saisir la taille du tableau : \")) # Saisie du nombre d'éléments du tableau\n",
    "while n < 2:\n",
    "    n = int(input(\"Veuillez un entier supérieur à 1 pour la taille du tableau : \"))\n",
    "TAB = [0]*n # Initialisation du tableau\n",
    "for i in range(0, n): # Saisie de chaque élément du tableau\n",
    "    TAB[i] = int(input(f\"Entrer l'élément {i + 1} : \"))\n",
    "\n",
    "for i in range(0, n-1):\n",
    "    m = i\n",
    "    for j in range(i + 1, n):\n",
    "        if TAB[j] > TAB[m]:\n",
    "            m = j\n",
    "    TAB[i], TAB[m] = TAB[m], TAB[i]\n",
    "    print(TAB)"
   ]
  },
  {
   "cell_type": "markdown",
   "id": "904faa95-1032-47a0-bb01-874a9e35de88",
   "metadata": {
    "jp-MarkdownHeadingCollapsed": true,
    "tags": []
   },
   "source": [
    "### $\\bigoplus$ Exercice 11 : Cristal magique : $1^{ère}$ version"
   ]
  },
  {
   "cell_type": "code",
   "execution_count": 36,
   "id": "437949fc-16ba-40be-9d61-829c2426135a",
   "metadata": {},
   "outputs": [
    {
     "name": "stdout",
     "output_type": "stream",
     "text": [
      "Quel est le nombre de caractères?8\n",
      "Entrer le caractère 1 : +\n",
      "Entrer le caractère 2 : -\n",
      "Entrer le caractère 3 : 9\n",
      "Entrer un caractère valide (plus ou moins): +\n",
      "Entrer le caractère 4 : +\n",
      "Entrer le caractère 5 : -\n",
      "Entrer le caractère 6 : -\n",
      "Entrer le caractère 7 : -\n",
      "Entrer le caractère 8 : +\n",
      "+ - + + - - - + \n",
      "- - + - + + - \n",
      "+ - - - + - \n",
      "- + + - - \n",
      "- + - + \n",
      "- - - \n",
      "+ + \n",
      "+ \n",
      "Le cristal n'est pas magique.\n"
     ]
    }
   ],
   "source": [
    "# Saisie du nombre de caractères\n",
    "n = int(input(\"Quel est le nombre de caractères?\"))\n",
    "while n <= 0:\n",
    "    n = int(input(\"Le nombre de caractères doit être strictement positif. Veuillez réessayer.\"))\n",
    "\n",
    "T = [0]*n\n",
    "######################## Saisie de la première ligne de caractères ####################\n",
    "def plus_moins(x):\n",
    "    if x == \"+\" or x == \"-\":\n",
    "        pm = True\n",
    "    else:\n",
    "        pm =False\n",
    "    return pm\n",
    "\n",
    "for i in range(0, n):\n",
    "    T[i] = input(f\"Entrer le caractère {i + 1} : \")\n",
    "    while  plus_moins(T[i]) != True: # Appel de la procédure\n",
    "        T[i] = input(f\"Entrer un caractère valide (plus ou moins): \")\n",
    "\n",
    "######################## Construction des lignes suivantes ############################\n",
    "Cristal = [0]*n\n",
    "Cristal[0] = T\n",
    "for l in range(1, n):\n",
    "    vec = [0]*n\n",
    "    for c in range(0, n - 1):\n",
    "        if Cristal[l-1][c+1] == 0:\n",
    "            vec[c] = 0\n",
    "        else:\n",
    "            if Cristal[l-1][c] == Cristal[l-1][c+1]:\n",
    "                vec[c] = \"+\"\n",
    "            else:\n",
    "                vec[c] = \"-\"\n",
    "    Cristal[l] = vec\n",
    "Cristal\n",
    "\n",
    "p = 0\n",
    "m = 0\n",
    "\n",
    "for i in range(0, n):\n",
    "    for j in range(0, n):\n",
    "        if Cristal[i][j] == \"+\":\n",
    "            p += 1\n",
    "        else:\n",
    "            if Cristal[i][j] == \"-\":\n",
    "                m += 1\n",
    "\n",
    "for i in range(0, n):\n",
    "    for j in range(0, n):\n",
    "        if Cristal[i][j] != 0:\n",
    "            print(Cristal[i][j], end = \" \")\n",
    "        else:\n",
    "            print(\"\", end = \"\")\n",
    "    print()\n",
    "\n",
    "if p == m:\n",
    "    print(\"Le cristal est magique.\")\n",
    "else:\n",
    "    print(\"Le cristal n'est pas magique.\")"
   ]
  },
  {
   "cell_type": "markdown",
   "id": "e7ccc9eb-540a-4ca2-8f69-b87ff9c11352",
   "metadata": {
    "jp-MarkdownHeadingCollapsed": true,
    "tags": []
   },
   "source": [
    "### $\\bigoplus$ Exercice 12 : Cristal magique : $2^e$ version"
   ]
  },
  {
   "cell_type": "code",
   "execution_count": 39,
   "id": "8dece1f8-86c1-4648-b6f9-2cab2bfeae9a",
   "metadata": {},
   "outputs": [
    {
     "name": "stdout",
     "output_type": "stream",
     "text": [
      "Quel est le nombre de caractères?3\n",
      "+ - + \n",
      "- - \n",
      "+ \n",
      "Le cristal est magique.\n"
     ]
    }
   ],
   "source": [
    "# Importation d'un module externe\n",
    "import random as rd\n",
    "\n",
    "# Récupération du nombre de carfactères\n",
    "n = int(input(\"Quel est le nombre de caractères?\"))\n",
    "while n <= 0:\n",
    "    n = int(input(\"Le nombre de caractères doit être strictement positif. Veuillez réessayer.\"))\n",
    "\n",
    "# Proposition de la première ligne de façon aléatoire\n",
    "T =[0]*n\n",
    "for i in range(0, n):\n",
    "    T[i] = chr(rd.randrange(43, 46, 2))\n",
    "\n",
    "# Génération du cristal\n",
    "Cristal = [0]*n\n",
    "Cristal[0] = T\n",
    "for l in range(1, n):\n",
    "    vec = [0]*n\n",
    "    for c in range(0, n - 1):\n",
    "        if Cristal[l-1][c+1] == 0:\n",
    "            vec[c] = 0\n",
    "        else:\n",
    "            if Cristal[l-1][c] == Cristal[l-1][c+1]:\n",
    "                vec[c] = \"+\"\n",
    "            else:\n",
    "                vec[c] = \"-\"\n",
    "    Cristal[l] = vec\n",
    "Cristal\n",
    "\n",
    "p = 0\n",
    "m = 0\n",
    "for i in range(0, n):\n",
    "    for j in range(0, n):\n",
    "        if Cristal[i][j] == \"+\":\n",
    "            p += 1\n",
    "        else:\n",
    "            if Cristal[i][j] == \"-\":\n",
    "                m += 1\n",
    "for i in range(0, n):\n",
    "    for j in range(0, n):\n",
    "        if Cristal[i][j] != 0:\n",
    "            print(Cristal[i][j], end = \" \")\n",
    "        else:\n",
    "            print(\"\", end = \"\")\n",
    "    print()\n",
    "if p == m:\n",
    "    print(\"Le cristal est magique.\")\n",
    "else:\n",
    "    print(\"Le cristal n'est pas magique.\")\n"
   ]
  },
  {
   "cell_type": "markdown",
   "id": "30578224-2244-4d84-84fd-7c70f9ae6ffa",
   "metadata": {
    "tags": []
   },
   "source": [
    "### $\\bigoplus$ Exercice 13 : Cristal magique : $3^e$ version"
   ]
  },
  {
   "cell_type": "code",
   "execution_count": 40,
   "id": "5bd49ab3-bcb4-4927-9b5e-c4d8ddde6d32",
   "metadata": {},
   "outputs": [
    {
     "name": "stdout",
     "output_type": "stream",
     "text": [
      "Quel est le nombre de caractères?5\n",
      "Il est impossible d'obtenir un cristal magique d'ordre 5.5\n",
      "Il est impossible d'obtenir un cristal magique d'ordre 5.4\n",
      "+ + - - \n",
      "+ - + \n",
      "- - \n",
      "+ \n"
     ]
    }
   ],
   "source": [
    "# Importation d'un module externe\n",
    "import random as rd\n",
    "# Récupération du nombre de carfactères\n",
    "n = int(input(\"Quel est le nombre de caractères?\"))\n",
    "while n <= 2 or (n%4 != 0 and (n + 1)%4 != 0):\n",
    "    n = int(input(f\"Il est impossible d'obtenir un cristal magique d'ordre {n}.\"))\n",
    "    \n",
    "magic = False\n",
    "while not magic:\n",
    "    # Première ligne du cristal\n",
    "    T =[0]*n\n",
    "    for i in range(n):\n",
    "        T[i] = chr(rd.randrange(43, 46, 2))\n",
    "    Cristal = [0]*n\n",
    "    Cristal[0] = T\n",
    "    # Génération des lignes restantes\n",
    "    for l in range(1, n):\n",
    "        vec = [0]*n\n",
    "        for c in range(0, n - 1):\n",
    "            if Cristal[l-1][c+1] == 0:\n",
    "                vec[c] = 0\n",
    "            else:\n",
    "                if Cristal[l-1][c] == Cristal[l-1][c+1]:\n",
    "                    vec[c] = \"+\"\n",
    "                else:\n",
    "                    vec[c] = \"-\"\n",
    "                Cristal[l] = vec\n",
    "            Cristal\n",
    "\n",
    "    p = 0\n",
    "    m = 0\n",
    "    for i in range(0, n):\n",
    "        for j in range(0, n):\n",
    "            if Cristal[i][j] == \"+\":\n",
    "                p += 1\n",
    "            else:\n",
    "                if Cristal[i][j] == \"-\":\n",
    "                    m += 1\n",
    "    if m == p:\n",
    "        magic = True\n",
    "    else:\n",
    "        magic = False\n",
    "for i in range(0, n):\n",
    "    for j in range(0, n):\n",
    "        if Cristal[i][j] != 0:\n",
    "            print(Cristal[i][j], end = \" \")\n",
    "        else:\n",
    "            print(\"\", end = \"\")\n",
    "    print()"
   ]
  },
  {
   "cell_type": "markdown",
   "id": "2e7276db-36da-40d4-bad8-a8e3461703e1",
   "metadata": {
    "jp-MarkdownHeadingCollapsed": true,
    "tags": []
   },
   "source": [
    "### $\\bigoplus$ Exercice 14 : Manipulation de caractères et de fonctions"
   ]
  },
  {
   "cell_type": "markdown",
   "id": "50150da3-3622-4485-a47d-ff335b9c74ec",
   "metadata": {
    "jp-MarkdownHeadingCollapsed": true,
    "tags": []
   },
   "source": [
    "##### 1. Procédure affiche_ligne"
   ]
  },
  {
   "cell_type": "code",
   "execution_count": 41,
   "id": "794b727e-18fb-49f9-8069-5935bc97de7d",
   "metadata": {},
   "outputs": [
    {
     "name": "stdout",
     "output_type": "stream",
     "text": [
      "* * * "
     ]
    }
   ],
   "source": [
    "def affiche_ligne(nombre, car): # Définition de la procédure\n",
    "    if nombre < 0:\n",
    "        print(\"Veuillez entrer un nombre positif.\")\n",
    "    else:\n",
    "        for i in range(0, nombre):\n",
    "            print(car, end = \" \")\n",
    "    \n",
    "affiche_ligne(3, \"*\") # Appel de la procédure"
   ]
  },
  {
   "cell_type": "markdown",
   "id": "3fb1b574-ab95-4d00-85c5-b150f623d9fa",
   "metadata": {
    "jp-MarkdownHeadingCollapsed": true,
    "tags": []
   },
   "source": [
    "##### 2. Procédure affiche_carre"
   ]
  },
  {
   "cell_type": "code",
   "execution_count": 42,
   "id": "170a3945-4c2d-4d37-be8a-b3ed04b7fafb",
   "metadata": {},
   "outputs": [
    {
     "name": "stdout",
     "output_type": "stream",
     "text": [
      "* * * * * \n",
      "* * * * * \n",
      "* * * * * \n",
      "* * * * * \n",
      "* * * * * \n"
     ]
    }
   ],
   "source": [
    "def affiche_carre(cote, car): # Définition de la procédure\n",
    "    if cote < 0:\n",
    "        print(\"Veuillez entrer un côté positif.\")\n",
    "    else:\n",
    "        for i in range(0, cote):\n",
    "            affiche_ligne(cote, car)\n",
    "            print()\n",
    "\n",
    "affiche_carre(5, \"*\") # Appel de la procédure"
   ]
  },
  {
   "cell_type": "markdown",
   "id": "d3889114-00ec-45de-80bf-f0fab0fa01b8",
   "metadata": {
    "jp-MarkdownHeadingCollapsed": true,
    "tags": []
   },
   "source": [
    "##### 3. Procédure affiche_triangle"
   ]
  },
  {
   "cell_type": "code",
   "execution_count": 43,
   "id": "e2d528b6-dbc8-47a4-8196-158eb7bedc9d",
   "metadata": {},
   "outputs": [
    {
     "name": "stdout",
     "output_type": "stream",
     "text": [
      "\n",
      "* \n",
      "* * \n",
      "* * * \n",
      "* * * * \n"
     ]
    }
   ],
   "source": [
    "def affiche_triangle(cote, car):\n",
    "    if cote < 0:\n",
    "        print(\"Veuillez entrer un côté positif.\")\n",
    "    else:\n",
    "        for i in range(0, cote + 1):\n",
    "            affiche_ligne(i, car)\n",
    "            print()\n",
    "\n",
    "affiche_triangle(4, \"*\")"
   ]
  },
  {
   "cell_type": "markdown",
   "id": "f114ad79-1cde-4c34-8ab4-2ec848daaed2",
   "metadata": {
    "jp-MarkdownHeadingCollapsed": true,
    "tags": []
   },
   "source": [
    "##### 4. Procédure affiche_triangle2"
   ]
  },
  {
   "cell_type": "code",
   "execution_count": 44,
   "id": "796b5c75-b713-437c-8bca-f9aba9515063",
   "metadata": {},
   "outputs": [
    {
     "name": "stdout",
     "output_type": "stream",
     "text": [
      "\n",
      "* \n",
      "* * \n",
      "* * * \n",
      "* * * * \n",
      "* * * * * \n",
      "* * * * * * \n",
      "* * * * * * * \n",
      "* * * * * * * * \n",
      "* * * * * * * * * \n"
     ]
    }
   ],
   "source": [
    "def affiche_triangle2(cote, car, direction):\n",
    "    if cote < 0:\n",
    "        print(\"Veuillez entrer un côté positif.\")\n",
    "    else:\n",
    "        if direction != 0 and direction != 1:\n",
    "            print(\"Veuillez entrer 0 ou 1 pour la direction.\")\n",
    "        else:\n",
    "            if direction == 0:\n",
    "                for i in range(0, cote + 1):\n",
    "                    affiche_ligne(i, car)\n",
    "                    print()\n",
    "            else:\n",
    "                for i in range(0, cote + 1):\n",
    "                    affiche_ligne(cote - i, car)\n",
    "                    print()\n",
    "\n",
    "affiche_triangle2(9, \"*\", 0)"
   ]
  },
  {
   "cell_type": "markdown",
   "id": "543fd290-a150-48d7-817e-d362118846c6",
   "metadata": {
    "jp-MarkdownHeadingCollapsed": true,
    "tags": []
   },
   "source": [
    "##### 5. Procédure affiche_grand_triangle"
   ]
  },
  {
   "cell_type": "code",
   "execution_count": 45,
   "id": "2aaaf23c-bf5e-4338-9980-50d223cbe011",
   "metadata": {},
   "outputs": [
    {
     "name": "stdout",
     "output_type": "stream",
     "text": [
      "\n",
      "* \n",
      "* * \n",
      "* * * \n",
      "* * * * \n",
      "* * * * * \n",
      "* * * * * * \n",
      "* * * * * * * \n",
      "* * * * * * * * \n",
      "* * * * * * * * * \n",
      "* * * * * * * * * * \n",
      "* * * * * * * * * \n",
      "* * * * * * * * \n",
      "* * * * * * * \n",
      "* * * * * * \n",
      "* * * * * \n",
      "* * * * \n",
      "* * * \n",
      "* * \n",
      "* \n",
      "\n"
     ]
    }
   ],
   "source": [
    "def affiche_grand_triangle(cote, car):\n",
    "    if cote < 0:\n",
    "        print(\"Veuillez entrer un côté positif.\")\n",
    "    else:\n",
    "        for i in range(0, cote):\n",
    "            affiche_ligne(i, car)\n",
    "            print()\n",
    "        for i in range(0, cote + 1):\n",
    "            affiche_ligne(cote - i, car)\n",
    "            print()\n",
    "            \n",
    "affiche_grand_triangle(10, \"*\")"
   ]
  },
  {
   "cell_type": "markdown",
   "id": "9691a1d4-7d38-426b-aeb9-53e1205b1659",
   "metadata": {
    "jp-MarkdownHeadingCollapsed": true,
    "tags": []
   },
   "source": [
    "##### 6. Procédure affiche_ligne2"
   ]
  },
  {
   "cell_type": "code",
   "execution_count": 46,
   "id": "e85bfbba-74d2-497e-a03d-77776b489763",
   "metadata": {},
   "outputs": [
    {
     "name": "stdout",
     "output_type": "stream",
     "text": [
      "      * * * * "
     ]
    }
   ],
   "source": [
    "def affiche_ligne2(nombre1, nombre2, car): # Définition de la procédure\n",
    "    if nombre1 < 0 or nombre2 < 0:\n",
    "        print(\"Veuillez entrer des nombres positifs.\")\n",
    "    else:\n",
    "        affiche_ligne(nombre1, \" \")\n",
    "        affiche_ligne(nombre2, car)\n",
    "\n",
    "affiche_ligne2(3, 4, \"*\") # Appel de la procédure"
   ]
  },
  {
   "cell_type": "markdown",
   "id": "06376899-1be1-409a-9582-2d47c9f30f81",
   "metadata": {
    "jp-MarkdownHeadingCollapsed": true,
    "tags": []
   },
   "source": [
    "##### 7. Procédure affiche_croix"
   ]
  },
  {
   "cell_type": "code",
   "execution_count": 47,
   "id": "4aab6a2b-3664-42a9-bfb3-2286338e6bc5",
   "metadata": {},
   "outputs": [
    {
     "name": "stdout",
     "output_type": "stream",
     "text": [
      "        * \n",
      "        * \n",
      "        * \n",
      "        * \n",
      "* * * * * * * * * \n",
      "        * \n",
      "        * \n",
      "        * \n",
      "        * \n"
     ]
    }
   ],
   "source": [
    "def affiche_croix(cote, car): # Définition de la procédure\n",
    "    if cote < 0:\n",
    "        print(\"Veuillez entrer un côté positif.\")\n",
    "    else:\n",
    "        for i in range(1, 2*cote):\n",
    "            if i < cote or i > cote:\n",
    "                affiche_ligne2(cote - 1, 1, car)\n",
    "                print()\n",
    "            else:\n",
    "                affiche_ligne2(0, 2*cote - 1, car)\n",
    "                print()\n",
    "            \n",
    "affiche_croix(5, \"*\") # Appel de la procédure"
   ]
  },
  {
   "cell_type": "markdown",
   "id": "e5c2fc08-ae65-4590-ab01-63e801696962",
   "metadata": {
    "jp-MarkdownHeadingCollapsed": true,
    "tags": []
   },
   "source": [
    "##### 8. Procédure affiche_croix2"
   ]
  },
  {
   "cell_type": "code",
   "execution_count": 48,
   "id": "aed42c73-26be-4b51-92c2-43f9550973f9",
   "metadata": {},
   "outputs": [
    {
     "name": "stdout",
     "output_type": "stream",
     "text": [
      "            ♠ ♠ ♠             \n",
      "            ♠ ♠ ♠             \n",
      "            ♠ ♠ ♠             \n",
      "            ♠ ♠ ♠             \n",
      "            ♠ ♠ ♠             \n",
      "            ♠ ♠ ♠             \n",
      "♠ ♠ ♠ ♠ ♠ ♠ ♠ ♠ ♠ ♠ ♠ ♠ ♠ ♠ ♠ \n",
      "♠ ♠ ♠ ♠ ♠ ♠ ♠ ♠ ♠ ♠ ♠ ♠ ♠ ♠ ♠ \n",
      "♠ ♠ ♠ ♠ ♠ ♠ ♠ ♠ ♠ ♠ ♠ ♠ ♠ ♠ ♠ \n",
      "            ♠ ♠ ♠             \n",
      "            ♠ ♠ ♠             \n",
      "            ♠ ♠ ♠             \n",
      "            ♠ ♠ ♠             \n",
      "            ♠ ♠ ♠             \n",
      "            ♠ ♠ ♠             \n"
     ]
    }
   ],
   "source": [
    "def affiche_croix2(cote, largeur, car): # Définition de la procédure\n",
    "    if cote < 0:\n",
    "        print(\"Veuillez entrer un côté positif.\")\n",
    "    else:\n",
    "        if largeur < 0:\n",
    "             print(\"Veuillez entrer une largeur positive.\")\n",
    "        else:\n",
    "            if largeur%2 == 0:\n",
    "                mess = print(\"Veuillez entrer un nombre entier impair pour la lageur.\")\n",
    "            else:\n",
    "                for i in range(1, 2*cote):\n",
    "                    for j in range(1, 2*cote):\n",
    "                        if (i >= (cote - (largeur - 1)/2) and i <= (cote + (largeur - 1)/2)) or (j >= (cote - (largeur - 1)/2) and j <= (cote + (largeur - 1)/2)):\n",
    "                            print(car, end = \" \")\n",
    "                        else:\n",
    "                            print(\" \", end = \" \")\n",
    "                    print()\n",
    "    \n",
    "affiche_croix2(8, 3, \"♠\") # Appel de la procédure"
   ]
  },
  {
   "cell_type": "code",
   "execution_count": null,
   "id": "edcd7a98-8174-4792-bcfb-5cc7c215f481",
   "metadata": {},
   "outputs": [],
   "source": []
  }
 ],
 "metadata": {
  "kernelspec": {
   "display_name": "Python 3",
   "language": "python",
   "name": "python3"
  },
  "language_info": {
   "codemirror_mode": {
    "name": "ipython",
    "version": 3
   },
   "file_extension": ".py",
   "mimetype": "text/x-python",
   "name": "python",
   "nbconvert_exporter": "python",
   "pygments_lexer": "ipython3",
   "version": "3.12.10"
  }
 },
 "nbformat": 4,
 "nbformat_minor": 5
}
